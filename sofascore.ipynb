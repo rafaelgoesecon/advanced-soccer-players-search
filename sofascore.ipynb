{
 "cells": [
  {
   "cell_type": "code",
   "execution_count": 195,
   "metadata": {},
   "outputs": [],
   "source": [
    "import requests"
   ]
  },
  {
   "cell_type": "code",
   "execution_count": 196,
   "metadata": {},
   "outputs": [],
   "source": [
    "url=['https://www.sofascore.com/player/jobson/826353','https://www.sofascore.com/player/souza/47014','https://www.sofascore.com/player/jean-carlos/850475','https://www.sofascore.com/player/mauricio/39686']\n",
    "page_html = response.text"
   ]
  },
  {
   "cell_type": "code",
   "execution_count": 197,
   "metadata": {},
   "outputs": [
    {
     "name": "stdout",
     "output_type": "stream",
     "text": [
      "['https://www.sofascore.com/player/jobson/826353', 'https://www.sofascore.com/player/souza/47014', 'https://www.sofascore.com/player/jean-carlos/850475', 'https://www.sofascore.com/player/mauricio/39686']\n"
     ]
    }
   ],
   "source": [
    "print(url)"
   ]
  },
  {
   "cell_type": "code",
   "execution_count": 198,
   "metadata": {},
   "outputs": [],
   "source": [
    "from bs4 import BeautifulSoup\n",
    "soup = BeautifulSoup(page_html,'lxml')"
   ]
  },
  {
   "cell_type": "code",
   "execution_count": 199,
   "metadata": {},
   "outputs": [
    {
     "data": {
      "text/plain": [
       "<span class=\"sc-af4d0724-14 evVGtz\">Mauricio</span>"
      ]
     },
     "execution_count": 199,
     "metadata": {},
     "output_type": "execute_result"
    }
   ],
   "source": [
    "nome = soup.find_all('span')\n",
    "nome[114] # Achei manualmente o número do span com o nome do atleta."
   ]
  },
  {
   "cell_type": "code",
   "execution_count": 200,
   "metadata": {},
   "outputs": [],
   "source": [
    "name = soup.find_all(\"span\",\"sc-af4d0724-14 evVGtz\")[0].text\n",
    "club = soup.find_all(\"h3\",attrs={\"class\":\"sc-af4d0724-13 gscOXH\"})[0].text\n",
    "nationality = soup.find_all(\"h2\",attrs={\"class\":\"sc-af4d0724-11 bFutwJ\"})[0].text\n",
    "age = soup.find_all(\"h2\",attrs={\"class\":\"sc-af4d0724-11 bFutwJ\"})[1].text\n",
    "birth = soup.find_all(\"div\",\"sc-af4d0724-12 dJunwA\")[1].text\n",
    "height = soup.find_all(\"h2\",attrs={\"class\":\"sc-af4d0724-11 bFutwJ\"})[2].text\n",
    "foot = soup.find_all(\"h2\",attrs={\"class\":\"sc-af4d0724-11 bFutwJ\"})[3].text\n",
    "position = soup.find_all(\"h2\",attrs={\"class\":\"sc-af4d0724-11 bFutwJ\"})[4].text"
   ]
  },
  {
   "cell_type": "code",
   "execution_count": 201,
   "metadata": {},
   "outputs": [
    {
     "data": {
      "text/plain": [
       "['https://www.sofascore.com/player/jobson/826353',\n",
       " 'https://www.sofascore.com/player/souza/47014',\n",
       " 'https://www.sofascore.com/player/jean-carlos/850475',\n",
       " 'https://www.sofascore.com/player/mauricio/39686']"
      ]
     },
     "execution_count": 201,
     "metadata": {},
     "output_type": "execute_result"
    }
   ],
   "source": [
    "url = [\"https://www.sofascore.com/player/jobson/826353\",\"https://www.sofascore.com/player/souza/47014\",\"https://www.sofascore.com/player/jean-carlos/850475\",\"https://www.sofascore.com/player/mauricio/39686\"]\n",
    "url"
   ]
  },
  {
   "cell_type": "code",
   "execution_count": 202,
   "metadata": {},
   "outputs": [
    {
     "name": "stdout",
     "output_type": "stream",
     "text": [
      "['https://www.sofascore.com/player/jobson/826353', 'https://www.sofascore.com/player/souza/47014', 'https://www.sofascore.com/player/jean-carlos/850475', 'https://www.sofascore.com/player/mauricio/39686']\n",
      "['https://www.sofascore.com/player/jobson/826353', 'https://www.sofascore.com/player/souza/47014', 'https://www.sofascore.com/player/jean-carlos/850475', 'https://www.sofascore.com/player/mauricio/39686']\n",
      "['https://www.sofascore.com/player/jobson/826353', 'https://www.sofascore.com/player/souza/47014', 'https://www.sofascore.com/player/jean-carlos/850475', 'https://www.sofascore.com/player/mauricio/39686']\n",
      "['https://www.sofascore.com/player/jobson/826353', 'https://www.sofascore.com/player/souza/47014', 'https://www.sofascore.com/player/jean-carlos/850475', 'https://www.sofascore.com/player/mauricio/39686']\n"
     ]
    }
   ],
   "source": [
    "for item in url:\n",
    "    print(url)"
   ]
  },
  {
   "cell_type": "code",
   "execution_count": 203,
   "metadata": {},
   "outputs": [
    {
     "name": "stdout",
     "output_type": "stream",
     "text": [
      "Jobson Náutico BRA 26 13 Sep 1995 185 Right M\n",
      "Souza Náutico BRA 34 8 Mar 1988 183 Right M\n",
      "Jean Carlos Náutico BRA 30 15 Feb 1992 178 Left M\n",
      "Mauricio Náutico BRA 33 20 Sep 1988 185 Right D\n"
     ]
    }
   ],
   "source": [
    "for item in url: #Repetimos as definições de cada característica dos jogadores, pois só funciona assim.\n",
    "    response=requests.get(item)\n",
    "    soup=BeautifulSoup(response.text,'lxml')\n",
    "    name = soup.find_all(\"span\",\"sc-af4d0724-14 evVGtz\")[0].text\n",
    "    club = soup.find_all(\"h3\",attrs={\"class\":\"sc-af4d0724-13 gscOXH\"})[0].text\n",
    "    nationality = soup.find_all(\"h2\",attrs={\"class\":\"sc-af4d0724-11 bFutwJ\"})[0].text\n",
    "    age = soup.find_all(\"h2\",attrs={\"class\":\"sc-af4d0724-11 bFutwJ\"})[1].text\n",
    "    birth = soup.find_all(\"div\",\"sc-af4d0724-12 dJunwA\")[1].text\n",
    "    height = soup.find_all(\"h2\",attrs={\"class\":\"sc-af4d0724-11 bFutwJ\"})[2].text\n",
    "    foot = soup.find_all(\"h2\",attrs={\"class\":\"sc-af4d0724-11 bFutwJ\"})[3].text\n",
    "    position = soup.find_all(\"h2\",attrs={\"class\":\"sc-af4d0724-11 bFutwJ\"})[4].text\n",
    "    print(name,club,nationality,age,birth,height,foot,position) "
   ]
  },
  {
   "cell_type": "code",
   "execution_count": 204,
   "metadata": {},
   "outputs": [],
   "source": [
    "players = []"
   ]
  },
  {
   "cell_type": "code",
   "execution_count": 205,
   "metadata": {},
   "outputs": [
    {
     "data": {
      "text/plain": [
       "[]"
      ]
     },
     "execution_count": 205,
     "metadata": {},
     "output_type": "execute_result"
    }
   ],
   "source": [
    "players"
   ]
  },
  {
   "cell_type": "code",
   "execution_count": 206,
   "metadata": {},
   "outputs": [],
   "source": [
    "for item in url: #Problema do dicionário corrigido excluído todos elementos de players e depois rodando este código novamente.\n",
    "    dici={}\n",
    "    response=requests.get(item)\n",
    "    soup=BeautifulSoup(response.text,'lxml')\n",
    "    name = soup.find_all(\"span\",\"sc-af4d0724-14 evVGtz\")[0].text\n",
    "    dici['nome']=name\n",
    "    club = soup.find_all(\"h3\",attrs={\"class\":\"sc-af4d0724-13 gscOXH\"})[0].text\n",
    "    dici['clube']=club\n",
    "    nationality = soup.find_all(\"h2\",attrs={\"class\":\"sc-af4d0724-11 bFutwJ\"})[0].text\n",
    "    dici['nacionalidade']=nationality\n",
    "    age = soup.find_all(\"h2\",attrs={\"class\":\"sc-af4d0724-11 bFutwJ\"})[1].text\n",
    "    dici['idade']=age\n",
    "    birth = soup.find_all(\"div\",\"sc-af4d0724-12 dJunwA\")[1].text\n",
    "    dici['nascimento']=birth\n",
    "    height = soup.find_all(\"h2\",attrs={\"class\":\"sc-af4d0724-11 bFutwJ\"})[2].text\n",
    "    dici['altura']=height\n",
    "    foot = soup.find_all(\"h2\",attrs={\"class\":\"sc-af4d0724-11 bFutwJ\"})[3].text\n",
    "    dici['pe']=foot\n",
    "    position = soup.find_all(\"h2\",attrs={\"class\":\"sc-af4d0724-11 bFutwJ\"})[4].text\n",
    "    dici['posicao']=position\n",
    "    players.append(dici)"
   ]
  },
  {
   "cell_type": "code",
   "execution_count": 207,
   "metadata": {},
   "outputs": [
    {
     "name": "stdout",
     "output_type": "stream",
     "text": [
      "[{'nome': 'Jobson', 'clube': 'Náutico', 'nacionalidade': 'BRA', 'idade': '26', 'nascimento': '13 Sep 1995', 'altura': '185', 'pe': 'Right', 'posicao': 'M'}, {'nome': 'Souza', 'clube': 'Náutico', 'nacionalidade': 'BRA', 'idade': '34', 'nascimento': '8 Mar 1988', 'altura': '183', 'pe': 'Right', 'posicao': 'M'}, {'nome': 'Jean Carlos', 'clube': 'Náutico', 'nacionalidade': 'BRA', 'idade': '30', 'nascimento': '15 Feb 1992', 'altura': '178', 'pe': 'Left', 'posicao': 'M'}, {'nome': 'Mauricio', 'clube': 'Náutico', 'nacionalidade': 'BRA', 'idade': '33', 'nascimento': '20 Sep 1988', 'altura': '185', 'pe': 'Right', 'posicao': 'D'}]\n"
     ]
    }
   ],
   "source": [
    "print(players)"
   ]
  },
  {
   "cell_type": "code",
   "execution_count": 208,
   "metadata": {},
   "outputs": [
    {
     "data": {
      "text/plain": [
       "[{'nome': 'Jobson',\n",
       "  'clube': 'Náutico',\n",
       "  'nacionalidade': 'BRA',\n",
       "  'idade': '26',\n",
       "  'nascimento': '13 Sep 1995',\n",
       "  'altura': '185',\n",
       "  'pe': 'Right',\n",
       "  'posicao': 'M'},\n",
       " {'nome': 'Souza',\n",
       "  'clube': 'Náutico',\n",
       "  'nacionalidade': 'BRA',\n",
       "  'idade': '34',\n",
       "  'nascimento': '8 Mar 1988',\n",
       "  'altura': '183',\n",
       "  'pe': 'Right',\n",
       "  'posicao': 'M'},\n",
       " {'nome': 'Jean Carlos',\n",
       "  'clube': 'Náutico',\n",
       "  'nacionalidade': 'BRA',\n",
       "  'idade': '30',\n",
       "  'nascimento': '15 Feb 1992',\n",
       "  'altura': '178',\n",
       "  'pe': 'Left',\n",
       "  'posicao': 'M'},\n",
       " {'nome': 'Mauricio',\n",
       "  'clube': 'Náutico',\n",
       "  'nacionalidade': 'BRA',\n",
       "  'idade': '33',\n",
       "  'nascimento': '20 Sep 1988',\n",
       "  'altura': '185',\n",
       "  'pe': 'Right',\n",
       "  'posicao': 'D'}]"
      ]
     },
     "execution_count": 208,
     "metadata": {},
     "output_type": "execute_result"
    }
   ],
   "source": [
    "players"
   ]
  },
  {
   "cell_type": "code",
   "execution_count": 209,
   "metadata": {},
   "outputs": [],
   "source": [
    "import pandas as pd"
   ]
  },
  {
   "cell_type": "code",
   "execution_count": 210,
   "metadata": {},
   "outputs": [],
   "source": [
    "base = pd.DataFrame(players)"
   ]
  },
  {
   "cell_type": "code",
   "execution_count": 211,
   "metadata": {},
   "outputs": [
    {
     "data": {
      "text/html": [
       "<div>\n",
       "<style scoped>\n",
       "    .dataframe tbody tr th:only-of-type {\n",
       "        vertical-align: middle;\n",
       "    }\n",
       "\n",
       "    .dataframe tbody tr th {\n",
       "        vertical-align: top;\n",
       "    }\n",
       "\n",
       "    .dataframe thead th {\n",
       "        text-align: right;\n",
       "    }\n",
       "</style>\n",
       "<table border=\"1\" class=\"dataframe\">\n",
       "  <thead>\n",
       "    <tr style=\"text-align: right;\">\n",
       "      <th></th>\n",
       "      <th>altura</th>\n",
       "      <th>clube</th>\n",
       "      <th>idade</th>\n",
       "      <th>nacionalidade</th>\n",
       "      <th>nascimento</th>\n",
       "      <th>nome</th>\n",
       "      <th>pe</th>\n",
       "      <th>posicao</th>\n",
       "    </tr>\n",
       "  </thead>\n",
       "  <tbody>\n",
       "    <tr>\n",
       "      <th>0</th>\n",
       "      <td>185</td>\n",
       "      <td>Náutico</td>\n",
       "      <td>26</td>\n",
       "      <td>BRA</td>\n",
       "      <td>13 Sep 1995</td>\n",
       "      <td>Jobson</td>\n",
       "      <td>Right</td>\n",
       "      <td>M</td>\n",
       "    </tr>\n",
       "    <tr>\n",
       "      <th>1</th>\n",
       "      <td>183</td>\n",
       "      <td>Náutico</td>\n",
       "      <td>34</td>\n",
       "      <td>BRA</td>\n",
       "      <td>8 Mar 1988</td>\n",
       "      <td>Souza</td>\n",
       "      <td>Right</td>\n",
       "      <td>M</td>\n",
       "    </tr>\n",
       "    <tr>\n",
       "      <th>2</th>\n",
       "      <td>178</td>\n",
       "      <td>Náutico</td>\n",
       "      <td>30</td>\n",
       "      <td>BRA</td>\n",
       "      <td>15 Feb 1992</td>\n",
       "      <td>Jean Carlos</td>\n",
       "      <td>Left</td>\n",
       "      <td>M</td>\n",
       "    </tr>\n",
       "    <tr>\n",
       "      <th>3</th>\n",
       "      <td>185</td>\n",
       "      <td>Náutico</td>\n",
       "      <td>33</td>\n",
       "      <td>BRA</td>\n",
       "      <td>20 Sep 1988</td>\n",
       "      <td>Mauricio</td>\n",
       "      <td>Right</td>\n",
       "      <td>D</td>\n",
       "    </tr>\n",
       "  </tbody>\n",
       "</table>\n",
       "</div>"
      ],
      "text/plain": [
       "  altura    clube idade nacionalidade   nascimento         nome     pe posicao\n",
       "0    185  Náutico    26           BRA  13 Sep 1995       Jobson  Right       M\n",
       "1    183  Náutico    34           BRA   8 Mar 1988        Souza  Right       M\n",
       "2    178  Náutico    30           BRA  15 Feb 1992  Jean Carlos   Left       M\n",
       "3    185  Náutico    33           BRA  20 Sep 1988     Mauricio  Right       D"
      ]
     },
     "execution_count": 211,
     "metadata": {},
     "output_type": "execute_result"
    }
   ],
   "source": [
    "base"
   ]
  },
  {
   "cell_type": "code",
   "execution_count": null,
   "metadata": {},
   "outputs": [],
   "source": [
    "# Desafio agora é criar um loop de urls com todos os jogadores possíveis.\n",
    "# Outro caminho é tentar realizar o método post. Entretanto, não sei se é possível estabelecer parâmetros para este método."
   ]
  },
  {
   "cell_type": "code",
   "execution_count": null,
   "metadata": {},
   "outputs": [],
   "source": []
  },
  {
   "cell_type": "code",
   "execution_count": null,
   "metadata": {},
   "outputs": [],
   "source": []
  }
 ],
 "metadata": {
  "kernelspec": {
   "display_name": "Python 3",
   "language": "python",
   "name": "python3"
  },
  "language_info": {
   "codemirror_mode": {
    "name": "ipython",
    "version": 3
   },
   "file_extension": ".py",
   "mimetype": "text/x-python",
   "name": "python",
   "nbconvert_exporter": "python",
   "pygments_lexer": "ipython3",
   "version": "3.7.3"
  }
 },
 "nbformat": 4,
 "nbformat_minor": 2
}
