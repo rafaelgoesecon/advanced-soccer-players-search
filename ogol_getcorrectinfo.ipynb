{
 "cells": [
  {
   "cell_type": "code",
   "execution_count": null,
   "metadata": {},
   "outputs": [],
   "source": []
  },
  {
   "cell_type": "code",
   "execution_count": null,
   "metadata": {},
   "outputs": [],
   "source": []
  },
  {
   "cell_type": "code",
   "execution_count": null,
   "metadata": {},
   "outputs": [],
   "source": []
  },
  {
   "cell_type": "code",
   "execution_count": 141,
   "metadata": {},
   "outputs": [],
   "source": [
    "import requests\n",
    "\n",
    "#menino ney\n",
    "url = 'https://www.ogol.com.br/player.php?id=54814'\n",
    "\n",
    "response = requests.get(url)\n",
    "\n",
    "page_html = response.text\n",
    "\n",
    "from bs4 import BeautifulSoup\n",
    "soup = BeautifulSoup(page_html,'lxml')"
   ]
  },
  {
   "cell_type": "code",
   "execution_count": 157,
   "metadata": {},
   "outputs": [],
   "source": [
    "#função para pegar 4 primeiras letras\n",
    "def first4(s):\n",
    "    return s[:4]"
   ]
  },
  {
   "cell_type": "code",
   "execution_count": null,
   "metadata": {},
   "outputs": [],
   "source": []
  },
  {
   "cell_type": "code",
   "execution_count": 131,
   "metadata": {},
   "outputs": [],
   "source": [
    "#dicionario com as 4 primeiras letras \n",
    "#prob1: tem que arrumar um jeito de não dar erro se o range for maior que o numero de obs \n",
    "for i in range (0,2):\n",
    "    d = {'%s' % i:first4(str(soup.find_all(\"div\",attrs={\"class\":\"bio\"})[i].text)) for i in range (0,9)}\n",
    "    a = {'%s' % i:first4(str(soup.find_all(\"div\",attrs={\"class\":\"bio_half\"})[i].text)) for i in range (0,8)}"
   ]
  },
  {
   "cell_type": "code",
   "execution_count": 132,
   "metadata": {},
   "outputs": [
    {
     "data": {
      "text/plain": [
       "{'0': 'Nome',\n",
       " '1': 'Site',\n",
       " '2': 'Outr',\n",
       " '3': 'Pare',\n",
       " '4': 'Posi',\n",
       " '5': 'Estr',\n",
       " '6': 'Situ',\n",
       " '7': 'Agen',\n",
       " '8': 'Cont'}"
      ]
     },
     "execution_count": 132,
     "metadata": {},
     "output_type": "execute_result"
    }
   ],
   "source": [
    "d"
   ]
  },
  {
   "cell_type": "code",
   "execution_count": 133,
   "metadata": {},
   "outputs": [
    {
     "data": {
      "text/plain": [
       "{'0': 'Data',\n",
       " '1': 'Naci',\n",
       " '2': 'Natu',\n",
       " '3': 'Jogo',\n",
       " '4': 'Pé p',\n",
       " '5': 'Altu',\n",
       " '6': 'Peso',\n",
       " '7': 'Club'}"
      ]
     },
     "execution_count": 133,
     "metadata": {},
     "output_type": "execute_result"
    }
   ],
   "source": [
    "a"
   ]
  },
  {
   "cell_type": "code",
   "execution_count": null,
   "metadata": {},
   "outputs": [],
   "source": [
    "#agora a depender das primeiras letras vai ficar cadastrada a informação certa independente da posição ou se não tem essa info."
   ]
  },
  {
   "cell_type": "code",
   "execution_count": 146,
   "metadata": {},
   "outputs": [],
   "source": [
    "for i in d:\n",
    "    if d[i]=='Nome':\n",
    "        full_name = soup.find_all(\"div\",attrs={\"class\":\"bio\"})[int(i)].text\n",
    "    if d[i]=='Site':\n",
    "        web_site = soup.find_all(\"div\",attrs={\"class\":\"bio\"})[int(i)].text\n",
    "    if d[i]=='Outr':\n",
    "        other = soup.find_all(\"div\",attrs={\"class\":\"bio\"})[int(i)].text\n",
    "    if d[i]=='Pare':\n",
    "        family = soup.find_all(\"div\",attrs={\"class\":\"bio\"})[int(i)].text\n",
    "    if d[i]=='Posi':\n",
    "        position = soup.find_all(\"div\",attrs={\"class\":\"bio\"})[int(i)].text\n",
    "    if d[i]=='Estr':\n",
    "        first_app = soup.find_all(\"div\",attrs={\"class\":\"bio\"})[int(i)].text\n",
    "    if d[i]=='Situ':\n",
    "        situation = soup.find_all(\"div\",attrs={\"class\":\"bio\"})[int(i)].text\n",
    "    if d[i]=='Agen':\n",
    "        agent = soup.find_all(\"div\",attrs={\"class\":\"bio\"})[int(i)].text\n",
    "    if d[i]=='Cont':\n",
    "        contract = soup.find_all(\"div\",attrs={\"class\":\"bio\"})[int(i)].text"
   ]
  },
  {
   "cell_type": "code",
   "execution_count": 154,
   "metadata": {},
   "outputs": [],
   "source": [
    "for i in a:\n",
    "    if a[i]=='Data':\n",
    "        date_birth = soup.find_all(\"div\",attrs={\"class\":\"bio_half\"})[int(i)].text\n",
    "    if a[i]=='Naci':\n",
    "        nationality = soup.find_all(\"div\",attrs={\"class\":\"bio_half\"})[int(i)].text\n",
    "    if a[i]=='Natu':\n",
    "        city_birth = soup.find_all(\"div\",attrs={\"class\":\"bio_half\"})[int(i)].text\n",
    "    if a[i]=='Jogo':\n",
    "        national_team_games = soup.find_all(\"div\",attrs={\"class\":\"bio_half\"})[int(i)].text\n",
    "    if a[i]=='Pé p':\n",
    "        foot = soup.find_all(\"div\",attrs={\"class\":\"bio_half\"})[int(i)].text\n",
    "    if a[i]=='Altu':\n",
    "        height = soup.find_all(\"div\",attrs={\"class\":\"bio_half\"})[int(i)].text\n",
    "    if a[i]=='Peso':\n",
    "        weight = soup.find_all(\"div\",attrs={\"class\":\"bio_half\"})[int(i)].text\n",
    "    if a[i]=='Club':\n",
    "        current_club = soup.find_all(\"div\",attrs={\"class\":\"bio_half\"})[int(i)].text\n",
    "\n"
   ]
  },
  {
   "cell_type": "code",
   "execution_count": 156,
   "metadata": {},
   "outputs": [
    {
     "name": "stdout",
     "output_type": "stream",
     "text": [
      "NomeNeymar da Silva Santos Júnior\n",
      "Site Oficialhttp://www.neymaroficial.com/\n",
      "Outras Ligaçõesfgi\n",
      "ParentescosPrimo de Rhau, Filho de Neymar\n",
      "PosiçãoAtacante (Ponta Esquerda) / Atacante (2º Atacante)\n",
      "Estreia como profissionalEquipe: SantosJogo: Oeste 1-2 SantosEdição: Paulistão 2009Treinador: Vágner ManciniTemporada: em 2009\n",
      "SituaçãoEm atividade\n",
      "AgenteMJF\n",
      "Contrato2025/07\n",
      "Data de Nascimento1992-02-05(30 anos)País de NascimentoBrasil\n",
      "NacionalidadeBrasil\n",
      "NaturalidadeMogi das Cruzes\n",
      "Jogos pela seleção119 Jogos / 74 Gols\n",
      "Pé preferencialDestro\n",
      "Altura175 cm\n",
      "Peso68 kg\n",
      "Clube atualParis SG\n"
     ]
    }
   ],
   "source": [
    "#teste\n",
    "print (full_name)\n",
    "print (web_site)\n",
    "print (other)\n",
    "print (family)\n",
    "print (position)\n",
    "print (first_app)\n",
    "print (situation)\n",
    "print (agent)\n",
    "print (contract)\n",
    "print (date_birth)\n",
    "print (nationality)\n",
    "print (city_birth)\n",
    "print (national_team_games)\n",
    "print (foot)\n",
    "print (height)\n",
    "print (weight)\n",
    "print (current_club)\n"
   ]
  },
  {
   "cell_type": "code",
   "execution_count": null,
   "metadata": {},
   "outputs": [],
   "source": []
  },
  {
   "cell_type": "code",
   "execution_count": null,
   "metadata": {},
   "outputs": [],
   "source": []
  },
  {
   "cell_type": "code",
   "execution_count": null,
   "metadata": {},
   "outputs": [],
   "source": []
  }
 ],
 "metadata": {
  "kernelspec": {
   "display_name": "Python 3 (ipykernel)",
   "language": "python",
   "name": "python3"
  },
  "language_info": {
   "codemirror_mode": {
    "name": "ipython",
    "version": 3
   },
   "file_extension": ".py",
   "mimetype": "text/x-python",
   "name": "python",
   "nbconvert_exporter": "python",
   "pygments_lexer": "ipython3",
   "version": "3.10.5"
  }
 },
 "nbformat": 4,
 "nbformat_minor": 2
}
