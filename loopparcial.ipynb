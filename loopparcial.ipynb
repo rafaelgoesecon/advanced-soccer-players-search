{
 "cells": [
  {
   "cell_type": "code",
   "execution_count": 6,
   "metadata": {},
   "outputs": [],
   "source": [
    "import requests"
   ]
  },
  {
   "cell_type": "code",
   "execution_count": 7,
   "metadata": {},
   "outputs": [],
   "source": [
    "url = 'https://www.ogol.com.br/player.php?id='\n",
    "s_new = []"
   ]
  },
  {
   "cell_type": "code",
   "execution_count": 8,
   "metadata": {},
   "outputs": [],
   "source": [
    "response = requests.get(url)\n",
    "page_html = response.text\n",
    "from bs4 import BeautifulSoup\n",
    "soup = BeautifulSoup(page_html,'lxml')"
   ]
  },
  {
   "cell_type": "code",
   "execution_count": 9,
   "metadata": {},
   "outputs": [
    {
     "name": "stdout",
     "output_type": "stream",
     "text": [
      "[1, 2, 3, 4]\n"
     ]
    }
   ],
   "source": [
    "lst = list(range(1,4+1)) # Só colocar aqui o limite superior que temos todos os urls necessários\n",
    "print(lst)"
   ]
  },
  {
   "cell_type": "code",
   "execution_count": 10,
   "metadata": {},
   "outputs": [
    {
     "name": "stdout",
     "output_type": "stream",
     "text": [
      "NomeMariano Antonio Fernández Farina Mariano Fernández Data de Nascimento1978-09-02(43 anos)País de NascimentoArgentina PosiçãoDefensor (Zagueiro) / Defensor (Lateral Esquerdo) SituaçãoAposentado NacionalidadeArgentinaDupla NacionalidadeEspanha Altura186 cm\n",
      "NomeMiguel Alexandre Areias Lopes 15.Areias Data de Nascimento1977-06-02(45 anos)País de NascimentoPortugal PosiçãoDefensor (Lateral Esquerdo) SituaçãoAposentado NacionalidadePortugal Pé preferencialCanhoto\n",
      "NomeVítor Manuel dos Santos Silva Vítor Silva Data de Nascimento1968-10-15(53 anos)País de NascimentoPortugal PosiçãoDefensor (Zagueiro) SituaçãoAposentado NacionalidadePortugal Pé preferencial\n",
      "NomePedro Júlio Marques Ribeiro Pedro Ribeiro Data de Nascimento1979-02-08(43 anos)País de NascimentoPortugal Outras Ligaçõese PosiçãoDefensor (Lateral Direito) NacionalidadePortugal Pé preferencialDestro\n"
     ]
    }
   ],
   "source": [
    "for lst in lst:\n",
    "    s_new = url + str(lst)\n",
    "    sites = list(s_new.split(\"\\n\"))\n",
    "    for sites in sites:\n",
    "        response=requests.get(sites)\n",
    "        soup=BeautifulSoup(response.text,'lxml')\n",
    "        full_name = soup.find_all(\"div\",attrs={\"class\":\"bio\"})[0].text\n",
    "        name = soup.find_all(\"span\",attrs={\"class\":\"name\"})[8].text\n",
    "        birth_age = soup.find_all(\"div\",attrs={\"class\":\"bio_half\"})[0].text\n",
    "        position = soup.find_all(\"div\",attrs={\"class\":\"bio\"})[1].text\n",
    "        situation = soup.find_all(\"div\",attrs={\"class\":\"bio\"})[2].text\n",
    "        nationality = soup.find_all(\"div\",attrs={\"class\":\"bio_half\"})[1].text\n",
    "        foot = soup.find_all(\"div\",attrs={\"class\":\"bio_half\"})[4].text\n",
    "        print(full_name,name,birth_age,position,situation,nationality,foot)"
   ]
  },
  {
   "cell_type": "code",
   "execution_count": null,
   "metadata": {},
   "outputs": [],
   "source": []
  }
 ],
 "metadata": {
  "kernelspec": {
   "display_name": "Python 3",
   "language": "python",
   "name": "python3"
  },
  "language_info": {
   "codemirror_mode": {
    "name": "ipython",
    "version": 3
   },
   "file_extension": ".py",
   "mimetype": "text/x-python",
   "name": "python",
   "nbconvert_exporter": "python",
   "pygments_lexer": "ipython3",
   "version": "3.7.3"
  }
 },
 "nbformat": 4,
 "nbformat_minor": 2
}
